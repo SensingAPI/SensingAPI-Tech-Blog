{
  "cells": [
    {
      "cell_type": "markdown",
      "metadata": {
        "id": "msGcGu-4RXDp"
      },
      "source": [
        "EyeTech SensingAPI 「LPR API」へリクエストを行うサンプルコード及びデモンストレーションになります、手順に従って実行してください"
      ]
    },
    {
      "cell_type": "markdown",
      "metadata": {
        "id": "L8oZNYVkRdYl"
      },
      "source": [
        "送信する画像を\"sample_data/\"にアップロードしてください ※画像はJPG・JPEG形式で'*.jpg' もしくは'*.jpeg'で統一してください'*.jpeg'の画像をアップロードした際は「file_dir」の値を修正してください　画像は複数枚アップロードしていただいて構いません。"
      ]
    },
    {
      "cell_type": "code",
      "execution_count": null,
      "metadata": {
        "id": "_dzRuKHJRN3Y"
      },
      "outputs": [],
      "source": [
        "import glob\n",
        "file_dir = 'sample_data/*.jpg'\n",
        "files = glob.glob(file_dir)\n",
        "print(files)"
      ]
    },
    {
      "cell_type": "markdown",
      "metadata": {
        "id": "msmyZlTBR5la"
      },
      "source": [
        "SensingAPIで発行しましたLPR APIトークンと送信先URLを指定して実行してください。※トークン発行には、SensingAPIの登録が必要です。"
      ]
    },
    {
      "cell_type": "code",
      "execution_count": null,
      "metadata": {
        "id": "BF3scWTMRrpA"
      },
      "outputs": [],
      "source": [
        "# SensingAPI呼びだし関数\n",
        "import requests\n",
        "import os\n",
        "\n",
        "def detect_plate(f):\n",
        "  API_URL = \"----発行したAPIの送信先URL----\"\n",
        "  API_TOKEN = \"----発行したAPIのトークン----\" ## 発行されたTOKEN\n",
        "  url = \"{0}?token={1}\".format(API_URL, API_TOKEN)\n",
        "  file = {'image1': (os.path.basename(f), open(f, 'rb'), 'image/jpeg')}\n",
        "  r = requests.put(url,files=file)\n",
        "  return r.json()"
      ]
    },
    {
      "cell_type": "code",
      "execution_count": null,
      "metadata": {
        "id": "VkhHIdmQRv19"
      },
      "outputs": [],
      "source": [
        "# ファイルリストを一つづつ処理\n",
        "for f in files:\n",
        "  res = detect_plate(f)\n",
        "  print(res)"
      ]
    }
  ],
  "metadata": {
    "colab": {
      "collapsed_sections": [],
      "name": "LPR API demo.ipynb",
      "provenance": []
    },
    "kernelspec": {
      "display_name": "Python 3",
      "name": "python3"
    },
    "language_info": {
      "name": "python"
    }
  },
  "nbformat": 4,
  "nbformat_minor": 0
}
