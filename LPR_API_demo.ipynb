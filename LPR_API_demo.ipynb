{
  "nbformat": 4,
  "nbformat_minor": 0,
  "metadata": {
    "colab": {
      "name": "LPR API demo.ipynb",
      "provenance": [],
      "collapsed_sections": []
    },
    "kernelspec": {
      "name": "python3",
      "display_name": "Python 3"
    },
    "language_info": {
      "name": "python"
    }
  },
  "cells": [
    {
      "cell_type": "markdown",
      "source": [
        "EyeTech SensingAPI 「LPR API」へリクエストを行うサンプルコード及びデモンストレーションになります手順に従って実行してください"
      ],
      "metadata": {
        "id": "msGcGu-4RXDp"
      }
    },
    {
      "cell_type": "markdown",
      "source": [
        "送信する画像を\"sample_data/\"にアップロードしてください ※画像はJPG・JPEG形式で'*.jpg' もしくは'*.jpeg'で統一してください'*.jpeg'の画像をアップロードした際は「file_dir」の値を修正してください　画像は複数枚アップロードしていただいて構いません。"
      ],
      "metadata": {
        "id": "L8oZNYVkRdYl"
      }
    },
    {
      "cell_type": "code",
      "execution_count": null,
      "metadata": {
        "id": "_dzRuKHJRN3Y"
      },
      "outputs": [],
      "source": [
        "import glob\n",
        "file_dir = 'sample_data/*.jpg'\n",
        "files = glob.glob(file_dir)\n",
        "print(files)"
      ]
    },
    {
      "cell_type": "markdown",
      "source": [
        "SensingAPIで発行しましたLPR APIトークンと送信先URLを指定して実行してください。※トークン発行には、SensingAPIの登録が必要です。"
      ],
      "metadata": {
        "id": "msmyZlTBR5la"
      }
    },
    {
      "cell_type": "code",
      "source": [
        "# SensingAPI呼びだし関数\n",
        "import requests\n",
        "import os\n",
        "\n",
        "def detect_plate(f):\n",
        "  API_URL = \"----発行したAPIの送信先URL----\"\n",
        "  API_TOKEN = \"----発行したAPIのトークン----\" ## 発行されたTOKEN\n",
        "  url = \"{0}?token={1}\".format(API_URL, API_TOKEN)\n",
        "  file = {'image1': (os.path.basename(f), open(f, 'rb'), 'image/jpeg')}\n",
        "  r = requests.put(url,files=file)\n",
        "  return r.json()"
      ],
      "metadata": {
        "id": "BF3scWTMRrpA"
      },
      "execution_count": null,
      "outputs": []
    },
    {
      "cell_type": "code",
      "source": [
        "# ファイルリストを一つづつ処理\n",
        "for f in files:\n",
        "  res = detect_plate(f)\n",
        "  print(res)"
      ],
      "metadata": {
        "id": "VkhHIdmQRv19"
      },
      "execution_count": null,
      "outputs": []
    }
  ]
}