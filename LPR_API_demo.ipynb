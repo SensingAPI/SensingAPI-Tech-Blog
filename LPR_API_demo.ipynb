{
  "cells": [
    {
      "cell_type": "markdown",
      "metadata": {},
      "source": [
        "「LPR API」へリクエストを行うデモンストレーションになります。"
      ]
    },
    {
      "cell_type": "markdown",
      "metadata": {},
      "source": [
        "ファイルを開きsample_data/直下に認識したい画像をアップロードしてご利用ください。"
      ]
    },
    {
      "cell_type": "markdown",
      "metadata": {},
      "source": [
        "※画像形式が.jpegの場合”file_dir”の値を修正してください"
      ]
    },
    {
      "cell_type": "code",
      "execution_count": null,
      "metadata": {},
      "outputs": [],
      "source": [
        "#ファイルから画像を呼び込みます。\n",
        "import glob\n",
        "file_dir ='sample_data/*.jpg'\n",
        "files = glob.glob(file_dir)\n",
        "print(files)"
      ]
    },
    {
      "cell_type": "code",
      "execution_count": null,
      "metadata": {},
      "outputs": [],
      "source": [
        "#APIを呼び出す関数です。\n",
        "import requests\n",
        "import os\n",
        "def detect_plate(f):\n",
        "  API_URL = \"----発行したAPIの送信先URL----\"\n",
        "  API_TOKEN = \"----発行したAPIのトークン----\"\n",
        "  url = \"{0}?token={1}\".format(API_URL, API_TOKEN)\n",
        "  file = {'image1': (os.path.basename(f), open(f, 'rb'), 'image/jpeg')}\n",
        "  r = requests.put(url,files=file)\n",
        "  return r.json()"
      ]
    },
    {
      "cell_type": "code",
      "execution_count": null,
      "metadata": {},
      "outputs": [],
      "source": [
        "# ファイルリストを一つづつ処理し結果を出力します。\n",
        "for f in files:\n",
        "  res = detect_plate(f)\n",
        "  print(res)"
      ]
    }
  ],
  "metadata": {
    "colab": {
      "collapsed_sections": [],
      "name": "LPR API demo.ipynb",
      "provenance": []
    },
    "kernelspec": {
      "display_name": "Python 3",
      "name": "python3"
    },
    "language_info": {
      "name": "python"
    }
  },
  "nbformat": 4,
  "nbformat_minor": 0
}
